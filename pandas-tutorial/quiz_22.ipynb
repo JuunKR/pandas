{
 "cells": [
  {
   "cell_type": "code",
   "execution_count": 54,
   "id": "98546444",
   "metadata": {},
   "outputs": [
    {
     "data": {
      "text/plain": "'\\n22. 다음 객체에서 키값 A와 중복된 값이 제거된 1,2,3,4,5,6,7 이 출려되는 코드를 작성\\n23. 다음 객체에서 행의 각 요소에서 행의 평균을 뺀 값을 출력하되 /// 추가 문제 부분집합으로 가로 출력\\n24. 다음 객체에서 가장 작은 합계를 가진 숫자열의 열을 출력(최대값은 max)\\n25. 다음 객체에서 중복된 값이 없는 유니크한 열의 카운트 출력(중복되지 않은 행은 몇 개..)\\n26. 객체의 각 행에 대해 세번째 NaN 값이 들어 있는 열을 찾으시오. 일련의 열 레이블을 반환해야 합니다.\\n27. 다음 객체에서 grps 에서 a, b, c 별로 가장 큰 값을 찾으시오.\\n28 다음 객체를 list 로 변환하시오\\n29 다음 객체를 dictionary 로 변환하시오\\n30 다음 객체를 customer_id 를 인덱스로하고 product_code 를 컬럼으로, purchare_amount 를 값으로, 재구성하시오\\n31 30번 객체를\\n'"
     },
     "execution_count": 54,
     "metadata": {},
     "output_type": "execute_result"
    }
   ],
   "source": [
    "import pandas as pd\n",
    "import numpy as np\n",
    "import icecream as ic\n",
    "\n",
    "'''\n",
    "22. 다음 객체에서 키값 A와 중복된 값이 제거된 1,2,3,4,5,6,7 이 출려되는 코드를 작성\n",
    "23. 다음 객체에서 행의 각 요소에서 행의 평균을 뺀 값을 출력하되 /// 추가 문제 부분집합으로 가로 출력\n",
    "24. 다음 객체에서 가장 작은 합계를 가진 숫자열의 열을 출력(최대값은 max)\n",
    "25. 다음 객체에서 중복된 값이 없는 유니크한 열의 카운트 출력(중복되지 않은 행은 몇 개..)\n",
    "26. 객체의 각 행에 대해 세번째 NaN 값이 들어 있는 열을 찾으시오. 일련의 열 레이블을 반환해야 합니다.\n",
    "27. 다음 객체에서 grps 에서 a, b, c 별로 가장 큰 값을 찾으시오.\n",
    "28 다음 객체를 list 로 변환하시오\n",
    "29 다음 객체를 dictionary 로 변환하시오\n",
    "30 다음 객체를 customer_id 를 인덱스로하고 product_code 를 컬럼으로, purchare_amount 를 값으로, 재구성하시오\n",
    "31 30번 객체를\n",
    "'''"
   ]
  },
  {
   "cell_type": "code",
   "execution_count": 55,
   "id": "e6e88284",
   "metadata": {},
   "outputs": [
    {
     "ename": "TypeError",
     "evalue": "'module' object is not callable",
     "output_type": "error",
     "traceback": [
      "\u001B[1;31m---------------------------------------------------------------------------\u001B[0m",
      "\u001B[1;31mTypeError\u001B[0m                                 Traceback (most recent call last)",
      "\u001B[1;32m<ipython-input-55-14ef24e7a0dd>\u001B[0m in \u001B[0;36m<module>\u001B[1;34m\u001B[0m\n\u001B[0;32m      5\u001B[0m \u001B[1;31m# df = df.drop_duplicates()\u001B[0m\u001B[1;33m\u001B[0m\u001B[1;33m\u001B[0m\u001B[1;33m\u001B[0m\u001B[0m\n\u001B[0;32m      6\u001B[0m \u001B[1;31m# print(df)\u001B[0m\u001B[1;33m\u001B[0m\u001B[1;33m\u001B[0m\u001B[1;33m\u001B[0m\u001B[0m\n\u001B[1;32m----> 7\u001B[1;33m \u001B[0mic\u001B[0m\u001B[1;33m(\u001B[0m\u001B[0mdf\u001B[0m\u001B[1;33m.\u001B[0m\u001B[0mloc\u001B[0m\u001B[1;33m[\u001B[0m\u001B[0mdf\u001B[0m\u001B[1;33m[\u001B[0m\u001B[1;34m'A'\u001B[0m\u001B[1;33m]\u001B[0m\u001B[1;33m]\u001B[0m\u001B[1;33m)\u001B[0m\u001B[1;33m\u001B[0m\u001B[1;33m\u001B[0m\u001B[0m\n\u001B[0m\u001B[0;32m      8\u001B[0m \u001B[1;33m\u001B[0m\u001B[0m\n\u001B[0;32m      9\u001B[0m \u001B[1;33m\u001B[0m\u001B[0m\n",
      "\u001B[1;31mTypeError\u001B[0m: 'module' object is not callable"
     ]
    }
   ],
   "source": [
    "# 22. 다음 객체에서 키값 A와 중복된 값이 제거된 1,2,3,4,5,6,7 이 출려되는 코드를 작성\n",
    "df = pd.DataFrame({'A': [1, 2, 2, 3, 4, 5, 5, 5, 6, 7, 7]})\n",
    "type(df.loc[df['A']])\n",
    "#type(df['A'])\n",
    "# df = df.drop_duplicates()\n",
    "# print(df)\n",
    "df.loc[df['A']]\n"
   ]
  },
  {
   "cell_type": "code",
   "execution_count": 12,
   "id": "2112bbb7",
   "metadata": {},
   "outputs": [
    {
     "name": "stdout",
     "output_type": "stream",
     "text": [
      "          0         1         2\n",
      "0 -0.031867  0.077349 -0.045483\n",
      "1  0.245659  0.086565 -0.332224\n",
      "2 -0.468478  0.253165  0.215313\n",
      "3 -0.467313  0.132927  0.334386\n",
      "4 -0.013771 -0.080804  0.094575\n"
     ]
    }
   ],
   "source": [
    "# 23. 다음 객체에서 행의 각 요소에서 행의 평균을 뺀 값을 출력하되 /// 추가 문제 부분집합으로 가로 출력\n",
    "df = pd.DataFrame(np.random.random(size=(5, 3)))\n",
    "df = df.sub(df.mean(axis=1),axis=0) #df.mean(axis=1) # df.sub((df.mean(axis=1), axis=0) -> 파이썬\n",
    "print(df)\n"
   ]
  },
  {
   "cell_type": "code",
   "execution_count": 18,
   "id": "a77b5176",
   "metadata": {},
   "outputs": [
    {
     "name": "stdout",
     "output_type": "stream",
     "text": [
      "c\n",
      "a\n"
     ]
    }
   ],
   "source": [
    "# 24. 다음 객체에서 가장 작은 합계를 가진 숫자열의 열을 출력(최대값은 max)\n",
    "df = pd.DataFrame(np.random.random(size=(5, 10)), columns=list('abcdefghij'))\n",
    "df2 = pd.DataFrame(np.random.random(size=(5, 10)), columns=list('abcdefghij'))\n",
    "df = df.sum().idxmin()\n",
    "df2 = df2.sum().idxmax()\n",
    "print(df)\n",
    "print(df2)\n"
   ]
  },
  {
   "cell_type": "code",
   "execution_count": 20,
   "id": "c1553041",
   "metadata": {},
   "outputs": [
    {
     "name": "stdout",
     "output_type": "stream",
     "text": [
      "   0  1  2\n",
      "0  0  1  0\n",
      "1  0  0  0\n",
      "2  0  1  1\n",
      "3  0  1  1\n",
      "4  0  0  0\n",
      "5  1  0  1\n",
      "6  0  1  1\n",
      "7  0  1  0\n",
      "8  1  1  1\n",
      "9  0  0  1\n"
     ]
    }
   ],
   "source": [
    "# 25. 다음 객체에서 중복된 값이 없는 유니크한 열의 카운트 출력(중복되지 않은 행은 몇 개..)\n",
    "df = pd.DataFrame(np.random.randint(0, 2, size=(10, 3)))\n",
    "print(df)\n",
    "# len(df) - df.duplicated(keep=False).sum()\n",
    "print(df.drop_duplicates(keep=False))"
   ]
  },
  {
   "cell_type": "code",
   "execution_count": 21,
   "id": "5d874b73",
   "metadata": {},
   "outputs": [
    {
     "name": "stdout",
     "output_type": "stream",
     "text": [
      "0    e\n",
      "1    c\n",
      "2    d\n",
      "3    h\n",
      "4    d\n",
      "dtype: object\n"
     ]
    }
   ],
   "source": [
    "# 26. 객체의 각 행에 대해 세번째 NaN 값이 들어 있는 열을 찾으시오. 일련의 열 레이블을 반환해야 합니다.\n",
    "# 답은 e, c, d, h, d 입니다.\n",
    "nan = np.nan\n",
    "data = [[0.04,  nan,  nan, 0.25,  nan, 0.43, 0.71, 0.51,  nan,  nan],\n",
    "        [ nan,  nan,  nan, 0.04, 0.76,  nan,  nan, 0.67, 0.76, 0.16],\n",
    "        [ nan,  nan, 0.5 ,  nan, 0.31, 0.4 ,  nan,  nan, 0.24, 0.01],\n",
    "        [0.49,  nan,  nan, 0.62, 0.73, 0.26, 0.85,  nan,  nan,  nan],\n",
    "        [ nan,  nan, 0.41,  nan, 0.05,  nan, 0.61,  nan, 0.48, 0.68]]\n",
    "columns = list('abcdefghij')\n",
    "df = pd.DataFrame(data, columns=columns)\n",
    "\n",
    "df = (df.isnull().cumsum(axis=1) == 3).idxmax(axis=1)\n",
    "print(df)"
   ]
  },
  {
   "cell_type": "code",
   "execution_count": 42,
   "id": "c033e446",
   "metadata": {},
   "outputs": [
    {
     "data": {
      "text/plain": "grps\na    345\nb     57\nc    235\nName: vals, dtype: int64"
     },
     "execution_count": 42,
     "metadata": {},
     "output_type": "execute_result"
    }
   ],
   "source": [
    "# 27. 다음 객체에서 grps 에서 a, b, c 별로 가장 큰 값을 찾으시오.\n",
    "# 출력 결과는 \n",
    "#  grps\n",
    "#   a    409\n",
    "#   b    156\n",
    "#   c    345\n",
    "# 이렇게 나옵니다.\n",
    "df = pd.DataFrame({'grps': list('aaabbcaabcccbbc'), \n",
    "                   'vals': [12,345,3,1,45,14,4,52,54,23,235,21,57,3,87]})\n",
    "\n",
    "#print(type(df.groupby('grps')))\n",
    "#type(df.groupby('grps')['vals'])\n",
    "df = df.groupby('grps')['vals'].max()\n",
    "df"
   ]
  },
  {
   "cell_type": "code",
   "execution_count": 50,
   "id": "aaa476f1",
   "metadata": {},
   "outputs": [
    {
     "data": {
      "text/plain": "[[1, 4], [2, 5], [3, 6]]"
     },
     "execution_count": 50,
     "metadata": {},
     "output_type": "execute_result"
    }
   ],
   "source": [
    "# 28 다음 객체를 list 로 변환하시오\n",
    "df = pd.DataFrame({'A':[1,2,3], 'B':[4,5,6]})\n",
    "# arr = df.values\n",
    "# # print(type(arr))\n",
    "# ls = arr.tolist()\n",
    "# # print(type(ls))\n",
    "df = df.values.tolist() #위의 과정을 한줄로\n",
    "df"
   ]
  },
  {
   "cell_type": "code",
   "execution_count": 52,
   "id": "fb396371",
   "metadata": {},
   "outputs": [
    {
     "data": {
      "text/plain": "{'A': {0: 1, 1: 2, 2: 3}, 'B': {0: 4, 1: 5, 2: 6}}"
     },
     "execution_count": 52,
     "metadata": {},
     "output_type": "execute_result"
    }
   ],
   "source": [
    "# 29 다음 객체를 dictionary 로 변환하시오\n",
    "df = pd.DataFrame({'A':[1,2,3], 'B':[4,5,6]})\n",
    "df = df.to_dict()\n",
    "df"
   ]
  },
  {
   "cell_type": "code",
   "execution_count": 40,
   "id": "bbee32ae",
   "metadata": {},
   "outputs": [
    {
     "ename": "SyntaxError",
     "evalue": "invalid syntax (<ipython-input-40-cd6e219b1d84>, line 1)",
     "output_type": "error",
     "traceback": [
      "\u001B[1;36m  File \u001B[1;32m\"<ipython-input-40-cd6e219b1d84>\"\u001B[1;36m, line \u001B[1;32m1\u001B[0m\n\u001B[1;33m    :\u001B[0m\n\u001B[1;37m    ^\u001B[0m\n\u001B[1;31mSyntaxError\u001B[0m\u001B[1;31m:\u001B[0m invalid syntax\n"
     ]
    }
   ],
   "source": [
    "# 30 다음 객체를 customer_id 를 인덱스로하고 product_code 를 컬럼으로, purchare_amount 를 값으로, 재구성하시오\n",
    "df = pd.DataFrame({\"customer_id\":['kim','lee','park','song','yoon','kang','tak','ryu','jang'],\n",
    "               \"product_code\":['com','phone','tv','com','phone','tv','com','phone','tv'],\n",
    "               \"grade\":['A','A','A','A','A','A','B','B','B'],\n",
    "               \"purchase_amount\":[30,10,0,40,15,30,0,0,10]})\n",
    "df"
   ]
  },
  {
   "cell_type": "code",
   "execution_count": 42,
   "id": "4c55985f",
   "metadata": {},
   "outputs": [],
   "source": [
    "# 31 30번 객체를\n",
    "#    customer_id 와 grade 를 인덱스로하고 product_code 를 컬럼으로,\n",
    "#    purchare_amount 를 값으로, 재구성하시오"
   ]
  },
  {
   "cell_type": "code",
   "execution_count": null,
   "id": "36cda9c2",
   "metadata": {},
   "outputs": [],
   "source": []
  }
 ],
 "metadata": {
  "kernelspec": {
   "name": "pycharm-cade53a2",
   "language": "python",
   "display_name": "PyCharm (pandas-tutorial)"
  },
  "language_info": {
   "codemirror_mode": {
    "name": "ipython",
    "version": 3
   },
   "file_extension": ".py",
   "mimetype": "text/x-python",
   "name": "python",
   "nbconvert_exporter": "python",
   "pygments_lexer": "ipython3",
   "version": "3.8.8"
  }
 },
 "nbformat": 4,
 "nbformat_minor": 5
}